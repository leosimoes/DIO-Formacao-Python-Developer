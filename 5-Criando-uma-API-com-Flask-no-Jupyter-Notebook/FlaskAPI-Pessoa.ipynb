{
 "cells": [
  {
   "cell_type": "markdown",
   "metadata": {},
   "source": [
    "# DIO - Criando uma API com Flask no Jupyter Notebook\n",
    "\n",
    "![Logo de capa](DIO-Logo-Preto.png)\n",
    "\n",
    "Autor: Leonardo Simões"
   ]
  },
  {
   "cell_type": "markdown",
   "metadata": {},
   "source": [
    "O título proposto pela DIO é \"Criando uma API com Flask no Ambiente COLAB\", mas a implementação foi feita no\n",
    "Jupyter Notebook e não no COLAB."
   ]
  },
  {
   "cell_type": "markdown",
   "metadata": {},
   "source": [
    "---\n",
    "## Sumário\n",
    "- [1.Introdução](#introduction)\n",
    "- [2.Objetivos](#objectives)\n",
    "- [3.Desenvolvimento](#development)\n",
    "- [4.Conclusão](#conclusion)\n",
    "- [Referências](#references)"
   ]
  },
  {
   "cell_type": "markdown",
   "metadata": {},
   "source": [
    "---\n",
    "<a id='introduction'></a>\n",
    "## 1. Introdução\n"
   ]
  },
  {
   "cell_type": "markdown",
   "metadata": {},
   "source": [
    "Este projeto acadêmico consiste em criar uma api rest usando Flask e executá-la no Jupyter Notebook."
   ]
  },
  {
   "cell_type": "markdown",
   "metadata": {},
   "source": [
    "---\n",
    "<a id='objectives'></a>\n",
    "## 2. Objetivos"
   ]
  },
  {
   "cell_type": "markdown",
   "metadata": {},
   "source": [
    "Os objetivos deste projeto são:\n",
    "- Criar uma api rest de dados para leitura somente (read-only).\n",
    "- Considerar o recurso Pessoa (id, nome, estado).\n",
    "- Rodar uma aplicação Flask através do Jupyter Notebook."
   ]
  },
  {
   "cell_type": "markdown",
   "metadata": {},
   "source": [
    "---\n",
    "<a id='development'></a>\n",
    "## 3. Desenvolvimento"
   ]
  },
  {
   "cell_type": "markdown",
   "metadata": {},
   "source": [
    "Aqui os códigos são desenvolvidos e o projeto é implementado."
   ]
  },
  {
   "cell_type": "code",
   "execution_count": 1,
   "metadata": {},
   "outputs": [
    {
     "name": "stdout",
     "output_type": "stream",
     "text": [
      "Versão do Python:  3.11.2\n"
     ]
    }
   ],
   "source": [
    "# Verificação da versão do Python\n",
    "from platform import python_version\n",
    "print('Versão do Python: ', python_version())"
   ]
  },
  {
   "cell_type": "code",
   "execution_count": 2,
   "metadata": {},
   "outputs": [],
   "source": [
    "# Instalação da biblioteca Flask\n",
    "#!pip install flask"
   ]
  },
  {
   "cell_type": "code",
   "execution_count": 3,
   "metadata": {},
   "outputs": [],
   "source": [
    "# Imports das bibliotecas\n",
    "import flask\n",
    "from flask import request, jsonify, Flask\n",
    "import requests\n",
    "import json"
   ]
  },
  {
   "cell_type": "code",
   "execution_count": 4,
   "metadata": {},
   "outputs": [
    {
     "name": "stdout",
     "output_type": "stream",
     "text": [
      "Flask versão 2.3.1\n"
     ]
    }
   ],
   "source": [
    "# Exibe a versão do Flask\n",
    "print('Flask versão ' + flask.__version__)"
   ]
  },
  {
   "cell_type": "code",
   "execution_count": 5,
   "metadata": {},
   "outputs": [],
   "source": [
    "# Dados usados na api rest\n",
    "pessoas_dict_list = [{'id': 1, 'nome':'Fulano', 'estado':'RJ'},\n",
    "                     {'id': 2, 'nome':'Ciclano', 'estado':'RJ'},\n",
    "                     {'id': 3, 'nome':'Beltrano', 'estado':'RS'},\n",
    "                     {'id': 4, 'nome':'José', 'estado':'SP'},\n",
    "                     {'id': 5, 'nome':'João', 'estado':'BA'},\n",
    "                     {'id': 6, 'nome':'Maria', 'estado':'MT'},\n",
    "                     {'id': 7, 'nome':'Svetlana', 'estado':'DF'}]"
   ]
  },
  {
   "cell_type": "code",
   "execution_count": 6,
   "metadata": {},
   "outputs": [],
   "source": [
    "# Cria api rest\n",
    "app = Flask(__name__)"
   ]
  },
  {
   "cell_type": "code",
   "execution_count": 7,
   "metadata": {},
   "outputs": [],
   "source": [
    "# Retorna as pessoas cadastradas\n",
    "@app.get('/api/v1/pessoas/')\n",
    "def getPessoas():\n",
    "    return pessoas_dict_list"
   ]
  },
  {
   "cell_type": "code",
   "execution_count": 8,
   "metadata": {},
   "outputs": [],
   "source": [
    "# Retorna a pessoa com o id informado\n",
    "@app.get('/api/v1/pessoas/<int:id>')\n",
    "def getPessoa(id):\n",
    "    function_get_id = lambda p : p.get('id') == id\n",
    "    pessoas_by_id = list(filter(function_get_id, pessoas_dict_list))\n",
    "    if pessoas_by_id:\n",
    "        return pessoas_by_id[0]\n",
    "    else:\n",
    "        return {'response' :'Pessoa não encontrada'}"
   ]
  },
  {
   "cell_type": "code",
   "execution_count": 9,
   "metadata": {},
   "outputs": [
    {
     "name": "stdout",
     "output_type": "stream",
     "text": [
      " * Serving Flask app '__main__'\n",
      " * Debug mode: off\n"
     ]
    },
    {
     "name": "stderr",
     "output_type": "stream",
     "text": [
      "WARNING: This is a development server. Do not use it in a production deployment. Use a production WSGI server instead.\n",
      " * Running on http://127.0.0.1:5000\n",
      "Press CTRL+C to quit\n",
      "127.0.0.1 - - [09/May/2023 14:48:23] \"GET /api/v1/pessoas/ HTTP/1.1\" 200 -\n",
      "127.0.0.1 - - [09/May/2023 14:48:26] \"GET /api/v1/pessoas/5 HTTP/1.1\" 200 -\n",
      "127.0.0.1 - - [09/May/2023 14:48:29] \"GET /api/v1/pessoas/100 HTTP/1.1\" 200 -\n"
     ]
    }
   ],
   "source": [
    "# Executa a api rest\n",
    "app.run()"
   ]
  },
  {
   "cell_type": "markdown",
   "metadata": {},
   "source": [
    "---\n",
    "<a id='conclusion'></a>\n",
    "## 4. Conclusão"
   ]
  },
  {
   "cell_type": "markdown",
   "metadata": {},
   "source": [
    "Através do projeto, a simplicidade e eficência do Flask e a praticidade do Jupyter Notebook foram demonstradas. Apesar do fato de que rodar uma api a partir Jupyter Notebook não seja ideal, o uso dessa ferramenta em prototipação e aprendizado se faz muito valiosa."
   ]
  },
  {
   "cell_type": "markdown",
   "metadata": {},
   "source": [
    "---\n",
    "<a id='references'></a>\n",
    "## Referências\n",
    "\n",
    "DIO - Formação Python Developer:\n",
    "https://web.dio.me/track/formacao-python-developer\n",
    ", Acessado em 09/05/2023.\n"
   ]
  },
  {
   "cell_type": "markdown",
   "metadata": {},
   "source": [
    "---\n",
    "<div style=\"text-align: center\"> Copyright &copy; 2023 | Leonardo Simões | All Rights Reserved </div>\n",
    "\n",
    "---"
   ]
  }
 ],
 "metadata": {
  "kernelspec": {
   "display_name": "Python 3 (ipykernel)",
   "language": "python",
   "name": "python3"
  },
  "language_info": {
   "codemirror_mode": {
    "name": "ipython",
    "version": 3
   },
   "file_extension": ".py",
   "mimetype": "text/x-python",
   "name": "python",
   "nbconvert_exporter": "python",
   "pygments_lexer": "ipython3",
   "version": "3.11.2"
  }
 },
 "nbformat": 4,
 "nbformat_minor": 1
}
